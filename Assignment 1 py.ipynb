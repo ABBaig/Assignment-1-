{
 "cells": [
  {
   "cell_type": "code",
   "execution_count": 3,
   "id": "9f44b83a",
   "metadata": {},
   "outputs": [
    {
     "name": "stdout",
     "output_type": "stream",
     "text": [
      "Twinkle, twinkle, little star,\n",
      "         How I wonder what you are!\n",
      "                 Up above the world so high,\n",
      "                 Like a diamond in the sky.\n",
      "Twinkle, twinkle, little star,\n",
      "         How I wonder what you are!\n"
     ]
    }
   ],
   "source": [
    "#Assignment 1 of Data Science Course By Jawan Pakistan\n",
    "# Question no. 1\n",
    "# Following the order of the poem as it is given in the Question 1 of Assignment\n",
    "print(\"Twinkle, twinkle, little star,\")\n",
    "print(\"         How I wonder what you are!\")\n",
    "print(\"                 Up above the world so high,\")\n",
    "print(\"                 Like a diamond in the sky.\")\n",
    "print(\"Twinkle, twinkle, little star,\")\n",
    "print(\"         How I wonder what you are!\")"
   ]
  },
  {
   "cell_type": "code",
   "execution_count": 4,
   "id": "07a401f1",
   "metadata": {},
   "outputs": [
    {
     "name": "stdout",
     "output_type": "stream",
     "text": [
      "System Version:\n",
      "3.9.7 (default, Sep 16 2021, 16:59:28) [MSC v.1916 64 bit (AMD64)]\n"
     ]
    }
   ],
   "source": [
    "# Question no. 2\n",
    "# A Python program to tell its version of installation\n",
    "import sys\n",
    "print(\"System Version:\")\n",
    "print(sys.version)"
   ]
  },
  {
   "cell_type": "code",
   "execution_count": 5,
   "id": "82483ebd",
   "metadata": {},
   "outputs": [
    {
     "name": "stdout",
     "output_type": "stream",
     "text": [
      "Current Date and Time is: \n",
      "21-12-29 21:09:18\n"
     ]
    }
   ],
   "source": [
    "# Question no. 3\n",
    "# Telling the Current date and time\n",
    "import datetime\n",
    "now = datetime.datetime.now()\n",
    "print(\"Current Date and Time is: \")\n",
    "print(now.strftime(\"%y-%m-%d %H:%M:%S\"))"
   ]
  },
  {
   "cell_type": "code",
   "execution_count": 6,
   "id": "8f6a6614",
   "metadata": {},
   "outputs": [
    {
     "name": "stdout",
     "output_type": "stream",
     "text": [
      "Enter a number you want to set as radius: 4\n",
      "The area of circle is:  50.285714285714285\n"
     ]
    }
   ],
   "source": [
    "# Question no. 4\n",
    "# Calculating area of a circle by only giving the radius\n",
    "r = float(input(\"Enter a number you want to set as radius: \"))\n",
    "pie = 22/7\n",
    "sq = r*r\n",
    "area = pie*sq\n",
    "print(\"The area of circle is: \", area)"
   ]
  },
  {
   "cell_type": "code",
   "execution_count": 7,
   "id": "133bed34",
   "metadata": {},
   "outputs": [
    {
     "name": "stdout",
     "output_type": "stream",
     "text": [
      "Enter First name: Abdullah\n",
      "Enter Last name: Baig\n",
      "Your full name is: Baig Abdullah\n"
     ]
    }
   ],
   "source": [
    "# Question no. 5\n",
    "#Taking the input of the name of the user and reversing it\n",
    "fname = str(input(\"Enter First name: \"))\n",
    "lname = str(input(\"Enter Last name: \"))\n",
    "print(\"Your full name is: \" + lname + \" \" + fname)"
   ]
  },
  {
   "cell_type": "code",
   "execution_count": 8,
   "id": "e32b5424",
   "metadata": {},
   "outputs": [
    {
     "name": "stdout",
     "output_type": "stream",
     "text": [
      "Enter First number: 2.5\n",
      "Enter Second number: 2.5\n",
      "The result of the addition is: 5.0\n"
     ]
    }
   ],
   "source": [
    "# Question no. 6\n",
    "# taking two numbers as inputs and adding them\n",
    "a = float(input(\"Enter First number: \"))\n",
    "b = float(input(\"Enter Second number: \"))\n",
    "c = a+b\n",
    "print(\"The result of the addition is:\", c)"
   ]
  },
  {
   "cell_type": "code",
   "execution_count": null,
   "id": "c6722e60",
   "metadata": {},
   "outputs": [],
   "source": []
  },
  {
   "cell_type": "code",
   "execution_count": null,
   "id": "1d7eb635",
   "metadata": {},
   "outputs": [],
   "source": []
  },
  {
   "cell_type": "code",
   "execution_count": null,
   "id": "b9d71d91",
   "metadata": {},
   "outputs": [],
   "source": []
  }
 ],
 "metadata": {
  "kernelspec": {
   "display_name": "Python 3 (ipykernel)",
   "language": "python",
   "name": "python3"
  },
  "language_info": {
   "codemirror_mode": {
    "name": "ipython",
    "version": 3
   },
   "file_extension": ".py",
   "mimetype": "text/x-python",
   "name": "python",
   "nbconvert_exporter": "python",
   "pygments_lexer": "ipython3",
   "version": "3.9.7"
  }
 },
 "nbformat": 4,
 "nbformat_minor": 5
}
